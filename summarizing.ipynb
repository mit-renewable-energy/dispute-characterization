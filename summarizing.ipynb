{
 "cells": [
  {
   "cell_type": "code",
   "execution_count": null,
   "metadata": {},
   "outputs": [],
   "source": []
  },
  {
   "cell_type": "markdown",
   "metadata": {},
   "source": [
    "We assume that we have a spreadsheet with rows corresponding to a project:\n",
    "- Each row already has a column with json results corresponding to all search results.\n",
    "- As well as a column corresponding to the LLM's scoring of each result.\n",
    "Now we want to extract all of the URLs for which the LLM scored the search result with a 3, 4, or 5.\n",
    "- We want to fetch the HTML content of each URL.\n",
    "- If the text is longer than 1000 words, we want to ask the LLM to summarize/clean the results.\n",
    "\n"
   ]
  }
 ],
 "metadata": {
  "language_info": {
   "name": "python"
  }
 },
 "nbformat": 4,
 "nbformat_minor": 2
}
