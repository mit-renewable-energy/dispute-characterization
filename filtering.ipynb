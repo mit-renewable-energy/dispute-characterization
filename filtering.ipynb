{
 "cells": [
  {
   "cell_type": "code",
   "execution_count": 1,
   "metadata": {},
   "outputs": [
    {
     "data": {
      "text/plain": [
       "True"
      ]
     },
     "execution_count": 1,
     "metadata": {},
     "output_type": "execute_result"
    }
   ],
   "source": [
    "import dotenv\n",
    "\n",
    "dotenv.load_dotenv()"
   ]
  },
  {
   "cell_type": "markdown",
   "metadata": {},
   "source": [
    "## Scrape Search Results from Bright Data"
   ]
  },
  {
   "cell_type": "code",
   "execution_count": 20,
   "metadata": {},
   "outputs": [
    {
     "ename": "HTTPError",
     "evalue": "HTTP Error 407: Auth Failed (code: ip_forbidden)",
     "output_type": "error",
     "traceback": [
      "\u001b[0;31m---------------------------------------------------------------------------\u001b[0m",
      "\u001b[0;31mHTTPError\u001b[0m                                 Traceback (most recent call last)",
      "\u001b[1;32m/Users/anushreechaudhuri/pCloud Drive/MIT/MIT Work/Renewable Energy UROP/dispute-characterization/filtering.ipynb Cell 3\u001b[0m line \u001b[0;36m1\n\u001b[1;32m     <a href='vscode-notebook-cell:/Users/anushreechaudhuri/pCloud%20Drive/MIT/MIT%20Work/Renewable%20Energy%20UROP/dispute-characterization/filtering.ipynb#W1sZmlsZQ%3D%3D?line=11'>12</a>\u001b[0m opener \u001b[39m=\u001b[39m urllib\u001b[39m.\u001b[39mrequest\u001b[39m.\u001b[39mbuild_opener(\n\u001b[1;32m     <a href='vscode-notebook-cell:/Users/anushreechaudhuri/pCloud%20Drive/MIT/MIT%20Work/Renewable%20Energy%20UROP/dispute-characterization/filtering.ipynb#W1sZmlsZQ%3D%3D?line=12'>13</a>\u001b[0m     urllib\u001b[39m.\u001b[39mrequest\u001b[39m.\u001b[39mProxyHandler(\n\u001b[1;32m     <a href='vscode-notebook-cell:/Users/anushreechaudhuri/pCloud%20Drive/MIT/MIT%20Work/Renewable%20Energy%20UROP/dispute-characterization/filtering.ipynb#W1sZmlsZQ%3D%3D?line=13'>14</a>\u001b[0m         {\u001b[39m'\u001b[39m\u001b[39mhttp\u001b[39m\u001b[39m'\u001b[39m: os\u001b[39m.\u001b[39menviron[\u001b[39m'\u001b[39m\u001b[39mBRIGHTDATA_SERP_KEY\u001b[39m\u001b[39m'\u001b[39m],\n\u001b[1;32m     <a href='vscode-notebook-cell:/Users/anushreechaudhuri/pCloud%20Drive/MIT/MIT%20Work/Renewable%20Energy%20UROP/dispute-characterization/filtering.ipynb#W1sZmlsZQ%3D%3D?line=14'>15</a>\u001b[0m         \u001b[39m'\u001b[39m\u001b[39mhttps\u001b[39m\u001b[39m'\u001b[39m: os\u001b[39m.\u001b[39menviron[\u001b[39m'\u001b[39m\u001b[39mBRIGHTDATA_SERP_KEY\u001b[39m\u001b[39m'\u001b[39m]}))\n\u001b[1;32m     <a href='vscode-notebook-cell:/Users/anushreechaudhuri/pCloud%20Drive/MIT/MIT%20Work/Renewable%20Energy%20UROP/dispute-characterization/filtering.ipynb#W1sZmlsZQ%3D%3D?line=15'>16</a>\u001b[0m search_query \u001b[39m=\u001b[39m urllib\u001b[39m.\u001b[39mparse\u001b[39m.\u001b[39mquote_plus(search)\n\u001b[0;32m---> <a href='vscode-notebook-cell:/Users/anushreechaudhuri/pCloud%20Drive/MIT/MIT%20Work/Renewable%20Energy%20UROP/dispute-characterization/filtering.ipynb#W1sZmlsZQ%3D%3D?line=17'>18</a>\u001b[0m results \u001b[39m=\u001b[39m json\u001b[39m.\u001b[39mloads(opener\u001b[39m.\u001b[39;49mopen(\u001b[39mf\u001b[39;49m\u001b[39m'\u001b[39;49m\u001b[39mhttp://www.google.com/search?q=\u001b[39;49m\u001b[39m{\u001b[39;49;00msearch_query\u001b[39m}\u001b[39;49;00m\u001b[39m&brd_json=1\u001b[39;49m\u001b[39m'\u001b[39;49m)\u001b[39m.\u001b[39mread())\n\u001b[1;32m     <a href='vscode-notebook-cell:/Users/anushreechaudhuri/pCloud%20Drive/MIT/MIT%20Work/Renewable%20Energy%20UROP/dispute-characterization/filtering.ipynb#W1sZmlsZQ%3D%3D?line=18'>19</a>\u001b[0m \u001b[39m# need to format json result better\u001b[39;00m\n\u001b[1;32m     <a href='vscode-notebook-cell:/Users/anushreechaudhuri/pCloud%20Drive/MIT/MIT%20Work/Renewable%20Energy%20UROP/dispute-characterization/filtering.ipynb#W1sZmlsZQ%3D%3D?line=19'>20</a>\u001b[0m \u001b[39m# print(json.dumps(results, indent=2))\u001b[39;00m\n\u001b[1;32m     <a href='vscode-notebook-cell:/Users/anushreechaudhuri/pCloud%20Drive/MIT/MIT%20Work/Renewable%20Energy%20UROP/dispute-characterization/filtering.ipynb#W1sZmlsZQ%3D%3D?line=20'>21</a>\u001b[0m query\u001b[39m.\u001b[39mat[index, \u001b[39m'\u001b[39m\u001b[39mresult\u001b[39m\u001b[39m'\u001b[39m] \u001b[39m=\u001b[39m json\u001b[39m.\u001b[39mdumps(results)\n",
      "File \u001b[0;32m/opt/homebrew/Caskroom/miniconda/base/lib/python3.11/urllib/request.py:525\u001b[0m, in \u001b[0;36mOpenerDirector.open\u001b[0;34m(self, fullurl, data, timeout)\u001b[0m\n\u001b[1;32m    523\u001b[0m \u001b[39mfor\u001b[39;00m processor \u001b[39min\u001b[39;00m \u001b[39mself\u001b[39m\u001b[39m.\u001b[39mprocess_response\u001b[39m.\u001b[39mget(protocol, []):\n\u001b[1;32m    524\u001b[0m     meth \u001b[39m=\u001b[39m \u001b[39mgetattr\u001b[39m(processor, meth_name)\n\u001b[0;32m--> 525\u001b[0m     response \u001b[39m=\u001b[39m meth(req, response)\n\u001b[1;32m    527\u001b[0m \u001b[39mreturn\u001b[39;00m response\n",
      "File \u001b[0;32m/opt/homebrew/Caskroom/miniconda/base/lib/python3.11/urllib/request.py:634\u001b[0m, in \u001b[0;36mHTTPErrorProcessor.http_response\u001b[0;34m(self, request, response)\u001b[0m\n\u001b[1;32m    631\u001b[0m \u001b[39m# According to RFC 2616, \"2xx\" code indicates that the client's\u001b[39;00m\n\u001b[1;32m    632\u001b[0m \u001b[39m# request was successfully received, understood, and accepted.\u001b[39;00m\n\u001b[1;32m    633\u001b[0m \u001b[39mif\u001b[39;00m \u001b[39mnot\u001b[39;00m (\u001b[39m200\u001b[39m \u001b[39m<\u001b[39m\u001b[39m=\u001b[39m code \u001b[39m<\u001b[39m \u001b[39m300\u001b[39m):\n\u001b[0;32m--> 634\u001b[0m     response \u001b[39m=\u001b[39m \u001b[39mself\u001b[39;49m\u001b[39m.\u001b[39;49mparent\u001b[39m.\u001b[39;49merror(\n\u001b[1;32m    635\u001b[0m         \u001b[39m'\u001b[39;49m\u001b[39mhttp\u001b[39;49m\u001b[39m'\u001b[39;49m, request, response, code, msg, hdrs)\n\u001b[1;32m    637\u001b[0m \u001b[39mreturn\u001b[39;00m response\n",
      "File \u001b[0;32m/opt/homebrew/Caskroom/miniconda/base/lib/python3.11/urllib/request.py:563\u001b[0m, in \u001b[0;36mOpenerDirector.error\u001b[0;34m(self, proto, *args)\u001b[0m\n\u001b[1;32m    561\u001b[0m \u001b[39mif\u001b[39;00m http_err:\n\u001b[1;32m    562\u001b[0m     args \u001b[39m=\u001b[39m (\u001b[39mdict\u001b[39m, \u001b[39m'\u001b[39m\u001b[39mdefault\u001b[39m\u001b[39m'\u001b[39m, \u001b[39m'\u001b[39m\u001b[39mhttp_error_default\u001b[39m\u001b[39m'\u001b[39m) \u001b[39m+\u001b[39m orig_args\n\u001b[0;32m--> 563\u001b[0m     \u001b[39mreturn\u001b[39;00m \u001b[39mself\u001b[39;49m\u001b[39m.\u001b[39;49m_call_chain(\u001b[39m*\u001b[39;49margs)\n",
      "File \u001b[0;32m/opt/homebrew/Caskroom/miniconda/base/lib/python3.11/urllib/request.py:496\u001b[0m, in \u001b[0;36mOpenerDirector._call_chain\u001b[0;34m(self, chain, kind, meth_name, *args)\u001b[0m\n\u001b[1;32m    494\u001b[0m \u001b[39mfor\u001b[39;00m handler \u001b[39min\u001b[39;00m handlers:\n\u001b[1;32m    495\u001b[0m     func \u001b[39m=\u001b[39m \u001b[39mgetattr\u001b[39m(handler, meth_name)\n\u001b[0;32m--> 496\u001b[0m     result \u001b[39m=\u001b[39m func(\u001b[39m*\u001b[39;49margs)\n\u001b[1;32m    497\u001b[0m     \u001b[39mif\u001b[39;00m result \u001b[39mis\u001b[39;00m \u001b[39mnot\u001b[39;00m \u001b[39mNone\u001b[39;00m:\n\u001b[1;32m    498\u001b[0m         \u001b[39mreturn\u001b[39;00m result\n",
      "File \u001b[0;32m/opt/homebrew/Caskroom/miniconda/base/lib/python3.11/urllib/request.py:643\u001b[0m, in \u001b[0;36mHTTPDefaultErrorHandler.http_error_default\u001b[0;34m(self, req, fp, code, msg, hdrs)\u001b[0m\n\u001b[1;32m    642\u001b[0m \u001b[39mdef\u001b[39;00m \u001b[39mhttp_error_default\u001b[39m(\u001b[39mself\u001b[39m, req, fp, code, msg, hdrs):\n\u001b[0;32m--> 643\u001b[0m     \u001b[39mraise\u001b[39;00m HTTPError(req\u001b[39m.\u001b[39mfull_url, code, msg, hdrs, fp)\n",
      "\u001b[0;31mHTTPError\u001b[0m: HTTP Error 407: Auth Failed (code: ip_forbidden)"
     ]
    }
   ],
   "source": [
    "import urllib.request\n",
    "import urllib.parse\n",
    "import pandas as pd\n",
    "import json\n",
    "import os\n",
    "\n",
    "query = pd.read_csv('query.csv').head(2)\n",
    "for index, row in query.iterrows():\n",
    "    if row['query'] != 'initial' or pd.isnull(row['result']):\n",
    "        search = str(row['query'])\n",
    "\n",
    "        opener = urllib.request.build_opener(\n",
    "            urllib.request.ProxyHandler(\n",
    "                {'http': os.environ['BRIGHTDATA_SERP_KEY'],\n",
    "                'https': os.environ['BRIGHTDATA_SERP_KEY']}))\n",
    "        search_query = urllib.parse.quote_plus(search)\n",
    "\n",
    "        results = json.loads(opener.open(f'http://www.google.com/search?q={search_query}&brd_json=1').read())\n",
    "        # need to format json result better\n",
    "        # print(json.dumps(results, indent=2))\n",
    "        query.at[index, 'result'] = json.dumps(results)\n",
    "    else: pass"
   ]
  },
  {
   "cell_type": "code",
   "execution_count": 3,
   "metadata": {},
   "outputs": [],
   "source": [
    "query.to_csv('query_updated.csv', index=False)"
   ]
  },
  {
   "cell_type": "code",
   "execution_count": 2,
   "metadata": {},
   "outputs": [
    {
     "name": "stdout",
     "output_type": "stream",
     "text": [
      "A. Wind site seeking assessed value cut | News | nny360.com (https://www.nny360.com › news › wind-site-seeking-ass...) - Sep 11, 2018 — LOWVILLE — The owners of Maple Ridge Wind Farm are seeking to have the assessments on the project's Lewis County properties reduced by ...\n",
      "B. Two controversial north country wind projects 'no longer ... (https://www.nny360.com › news › lewiscounty › two-co...) - Dec 13, 2020 — Two controversial north country wind projects 'no longer seeking' Article 10 approval | Lewis County | nny360.com.\n",
      "C. Wind Farm Buffets Family, Town Relations (https://www.npr.org › 2008/04/09 › wind-farm-buffets-f...) - Apr 9, 2008 — \"It has caused friction, family against family or neighbor against neighbor,\" says Arleigh Rice, town supervisor for Lowville, one of the three ...\n",
      "D. Windmills split town and families (https://www.nbcnews.com › wbna26242604) - Aug 16, 2008 — The $400 million Maple Ridge wind project, the largest in New York state, brought money and jobs and a wondrous sense of prosperity to a ...\n",
      "E. Maple Ridge Wind Farm | EDPR North America (https://www.edpr.com › north-america › maple-ridge-...) - Maple Ridge Wind Farm is a joint venture between EDP Renewables North America and Avangrid Renewables. The wind farm area includes the towns of Lowville, ...\n",
      "F. Conflicts of Interest — In The Shadow of Wind Farms (https://stories.usatodaynetwork.com › windfarms › co...) - Dec 13, 2017 — Newly elected township officials later voted to block the wind farm, prompting NextEra to sue both communities. A federal judge ruled in favor ...\n",
      "G. Maple Ridge withholds payment (https://www.windaction.org › posts › 23945-maple-rid...) - Jan 3, 2010 — LOWVILLE - Lewis County has received only one-quarter of its requested $8.99 million payment from Maple Ridge Wind Farm, with the balance being ...\n",
      "H. Facts, not myths, propel 'wind farm' opposition | Opinion (https://www.lockportjournal.com › opinion › facts-not-m...) - Apr 1, 2016 — The wind turbines at Maple Ridge are 390 feet high, as opposed to Lighthouse Wind turbines which will be as high or higher than 600 feet.\n",
      "I. Wind farm a windfall to Lewis County communities (https://www.northcountrypublicradio.org › news › story) - May 15, 2013 — The Maple Ridge Wind Farm has brought millions of dollars to local governments in Lewis County and changed the landscape dramatically.\n",
      "J. The Next Generation of Wind Farms on ... (https://www.tughill.org › uploads › 2011/09) - ... Maple Ridge Wind Farm in Lewis County, the largest alternative energy project east of the Mississippi, began operating in 2006. With 195 wind towers and 321 ...\n"
     ]
    }
   ],
   "source": [
    "import pandas as pd\n",
    "import json\n",
    "\n",
    "query = pd.read_csv('query_updated.csv')\n",
    "\n",
    "def format_result_for_ai(result: str):\n",
    "    alphabet = \"ABCDEFGHIJKLMNOPQRSTUVWXYZ\"\n",
    "    result = json.loads(result)\n",
    "    human_readable = [\n",
    "        f\"{alphabet[i]}. {r['title']} ({r['display_link']}) - {r['description']}\"\n",
    "        for i, r in enumerate(result['organic'])\n",
    "    ]\n",
    "    return \"\\n\".join(human_readable)\n",
    "\n",
    "print(format_result_for_ai(query.iloc[1]['result']))"
   ]
  },
  {
   "cell_type": "markdown",
   "metadata": {},
   "source": [
    "## Query OpenAI"
   ]
  },
  {
   "cell_type": "code",
   "execution_count": 2,
   "metadata": {},
   "outputs": [
    {
     "ename": "NameError",
     "evalue": "name 'row' is not defined",
     "output_type": "error",
     "traceback": [
      "\u001b[0;31m---------------------------------------------------------------------------\u001b[0m",
      "\u001b[0;31mNameError\u001b[0m                                 Traceback (most recent call last)",
      "\u001b[1;32m/Users/anushreechaudhuri/pCloud Drive/MIT/MIT Work/Renewable Energy UROP/dispute-characterization/filtering.ipynb Cell 5\u001b[0m line \u001b[0;36m2\n\u001b[1;32m      <a href='vscode-notebook-cell:/Users/anushreechaudhuri/pCloud%20Drive/MIT/MIT%20Work/Renewable%20Energy%20UROP/dispute-characterization/filtering.ipynb#X10sZmlsZQ%3D%3D?line=0'>1</a>\u001b[0m \u001b[39mimport\u001b[39;00m \u001b[39mjson\u001b[39;00m\n\u001b[0;32m----> <a href='vscode-notebook-cell:/Users/anushreechaudhuri/pCloud%20Drive/MIT/MIT%20Work/Renewable%20Energy%20UROP/dispute-characterization/filtering.ipynb#X10sZmlsZQ%3D%3D?line=1'>2</a>\u001b[0m search_results \u001b[39m=\u001b[39m json\u001b[39m.\u001b[39mloads(row[\u001b[39m'\u001b[39m\u001b[39mresult\u001b[39m\u001b[39m'\u001b[39m])\n\u001b[1;32m      <a href='vscode-notebook-cell:/Users/anushreechaudhuri/pCloud%20Drive/MIT/MIT%20Work/Renewable%20Energy%20UROP/dispute-characterization/filtering.ipynb#X10sZmlsZQ%3D%3D?line=2'>3</a>\u001b[0m search_results\n",
      "\u001b[0;31mNameError\u001b[0m: name 'row' is not defined"
     ]
    }
   ],
   "source": [
    "import json\n",
    "search_results = json.loads(row['result'])\n",
    "search_results"
   ]
  },
  {
   "cell_type": "code",
   "execution_count": 5,
   "metadata": {},
   "outputs": [
    {
     "data": {
      "text/plain": [
       "query     Maple Ridge Wind Farm New York Lewis County (c...\n",
       "gpt       [{\"score\": 8, \"description\": \" This article di...\n",
       "human                                                   NaN\n",
       "result    {\"general\": {\"search_engine\": \"google\", \"resul...\n",
       "Name: 1, dtype: object"
      ]
     },
     "execution_count": 5,
     "metadata": {},
     "output_type": "execute_result"
    }
   ],
   "source": [
    "query.iloc[1]"
   ]
  },
  {
   "cell_type": "code",
   "execution_count": 16,
   "metadata": {},
   "outputs": [],
   "source": [
    "system_prompt = f'Our aim is to take a set of search results from Google corresponding to the following search query: {query.iloc[1][\"query\"]} and determine which search results are relevant to our research question. Based on the description of each URL and other metadata, we would like to identify which search results are most relevant to this research question: \"What is the narrative surrounding the development of this renewable energy project in this location, and what evidence of opposition or support for the project can be identified?\" Score each search result with a number between 1-5, with 1 being the least relevant and 5 being the most relevant. Here are examples of what might receive the following scores:\\n1 - an article that might be related to renewable energy but does not have any mention of the project or location in question\\n2 - an article that might be related to renewable energy near the location in question but does not mention the project\\n3 - an article that mentions the project and location in question, but only provides basic information about the project and no information on opposition or support\\n5 - an article that describes the narrative of the project development in detail, including mentions of opposition and support. Note the search results are listed in order of apperance from Google.Respond in the format:\\nA=4 (< 8 word justification)\\nB=2 (< 8 word justification)\\n...'\n",
    "\n",
    "\n",
    "import openai\n",
    "import dotenv\n",
    "import os\n",
    "\n",
    "dotenv.load_dotenv()\n",
    "\n",
    "openai.api_key = os.getenv(\"OPENAI_API_KEY\")\n",
    "openai.organization = os.getenv(\"OPENAI_ORG\")\n",
    "\n",
    "completion = openai.ChatCompletion.create(\n",
    "  model=\"gpt-3.5-turbo\", \n",
    "  messages = [{\"role\": \"system\", \"content\" : system_prompt},\n",
    "              {\"role\": \"user\", \"content\" : format_result_for_ai(query.iloc[1]['result'])}]\n",
    ")"
   ]
  },
  {
   "cell_type": "code",
   "execution_count": null,
   "metadata": {},
   "outputs": [],
   "source": [
    "from anthropic import Anthropic, HUMAN_PROMPT, AI_PROMPT\n",
    "\n",
    "anthropic = Anthropic()\n",
    "completion = anthropic.completions.create(\n",
    "    model=\"claude-2\",\n",
    "    max_tokens_to_sample=300,\n",
    "    prompt=f\"{HUMAN_PROMPT} How many toes do dogs have?{AI_PROMPT}\",\n",
    ")\n",
    "print(completion.completion)\n"
   ]
  },
  {
   "cell_type": "code",
   "execution_count": 17,
   "metadata": {},
   "outputs": [
    {
     "name": "stdout",
     "output_type": "stream",
     "text": [
      "A = 3 (Provides basic information about the wind farm, but no information on opposition or support)\n",
      "B = 3 (Provides basic information about wind projects in the area, but no information on opposition or support)\n",
      "C = 4 (Describes the friction and conflicts caused by the wind farm)\n",
      "D = 5 (Describes the positive impacts and prosperity brought by the Maple Ridge wind project, as well as the friction caused)\n",
      "E = 3 (Provides basic information about Maple Ridge Wind Farm, but no information on opposition or support)\n",
      "F = 5 (Describes the conflicts and lawsuits surrounding the wind farm)\n",
      "G = 2 (Does not provide relevant information about opposition or support)\n",
      "H = 4 (Discusses the opposition to wind farms in general, but not specifically about Maple Ridge)\n",
      "I = 4 (Describes the positive impact of the wind farm on local governments, but no information on opposition or support)\n",
      "J = 3 (Provides basic information about Maple Ridge Wind Farm, but no information on opposition or support)\n"
     ]
    }
   ],
   "source": [
    "print(completion.choices[0].message.content)"
   ]
  },
  {
   "cell_type": "code",
   "execution_count": 15,
   "metadata": {},
   "outputs": [
    {
     "name": "stdout",
     "output_type": "stream",
     "text": [
      "A. Wind site seeking assessed value cut | News | nny360.com (https://www.nny360.com › news › wind-site-seeking-ass...) - Sep 11, 2018 — LOWVILLE — The owners of Maple Ridge Wind Farm are seeking to have the assessments on the project's Lewis County properties reduced by ...\n",
      "B. Two controversial north country wind projects 'no longer ... (https://www.nny360.com › news › lewiscounty › two-co...) - Dec 13, 2020 — Two controversial north country wind projects 'no longer seeking' Article 10 approval | Lewis County | nny360.com.\n",
      "C. Wind Farm Buffets Family, Town Relations (https://www.npr.org › 2008/04/09 › wind-farm-buffets-f...) - Apr 9, 2008 — \"It has caused friction, family against family or neighbor against neighbor,\" says Arleigh Rice, town supervisor for Lowville, one of the three ...\n",
      "D. Windmills split town and families (https://www.nbcnews.com › wbna26242604) - Aug 16, 2008 — The $400 million Maple Ridge wind project, the largest in New York state, brought money and jobs and a wondrous sense of prosperity to a ...\n",
      "E. Maple Ridge Wind Farm | EDPR North America (https://www.edpr.com › north-america › maple-ridge-...) - Maple Ridge Wind Farm is a joint venture between EDP Renewables North America and Avangrid Renewables. The wind farm area includes the towns of Lowville, ...\n",
      "F. Conflicts of Interest — In The Shadow of Wind Farms (https://stories.usatodaynetwork.com › windfarms › co...) - Dec 13, 2017 — Newly elected township officials later voted to block the wind farm, prompting NextEra to sue both communities. A federal judge ruled in favor ...\n",
      "G. Maple Ridge withholds payment (https://www.windaction.org › posts › 23945-maple-rid...) - Jan 3, 2010 — LOWVILLE - Lewis County has received only one-quarter of its requested $8.99 million payment from Maple Ridge Wind Farm, with the balance being ...\n",
      "H. Facts, not myths, propel 'wind farm' opposition | Opinion (https://www.lockportjournal.com › opinion › facts-not-m...) - Apr 1, 2016 — The wind turbines at Maple Ridge are 390 feet high, as opposed to Lighthouse Wind turbines which will be as high or higher than 600 feet.\n",
      "I. Wind farm a windfall to Lewis County communities (https://www.northcountrypublicradio.org › news › story) - May 15, 2013 — The Maple Ridge Wind Farm has brought millions of dollars to local governments in Lewis County and changed the landscape dramatically.\n",
      "J. The Next Generation of Wind Farms on ... (https://www.tughill.org › uploads › 2011/09) - ... Maple Ridge Wind Farm in Lewis County, the largest alternative energy project east of the Mississippi, began operating in 2006. With 195 wind towers and 321 ...\n"
     ]
    }
   ],
   "source": [
    "print(format_result_for_ai(query.iloc[1]['result']))"
   ]
  },
  {
   "cell_type": "code",
   "execution_count": null,
   "metadata": {},
   "outputs": [],
   "source": []
  }
 ],
 "metadata": {
  "kernelspec": {
   "display_name": "gis",
   "language": "python",
   "name": "python3"
  },
  "language_info": {
   "codemirror_mode": {
    "name": "ipython",
    "version": 3
   },
   "file_extension": ".py",
   "mimetype": "text/x-python",
   "name": "python",
   "nbconvert_exporter": "python",
   "pygments_lexer": "ipython3",
   "version": "3.11.5"
  }
 },
 "nbformat": 4,
 "nbformat_minor": 2
}
