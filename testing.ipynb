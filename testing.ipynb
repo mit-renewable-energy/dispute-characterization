{
 "cells": [
  {
   "cell_type": "code",
   "execution_count": 6,
   "metadata": {},
   "outputs": [
    {
     "data": {
      "text/plain": [
       "True"
      ]
     },
     "execution_count": 6,
     "metadata": {},
     "output_type": "execute_result"
    }
   ],
   "source": [
    "#import all needed libraries\n",
    "import dotenv\n",
    "import urllib.request\n",
    "import urllib.parse\n",
    "import requests\n",
    "import re\n",
    "from bs4 import BeautifulSoup\n",
    "import pandas as pd\n",
    "import json\n",
    "import gspread\n",
    "import os\n",
    "from tqdm import tqdm\n",
    "dotenv.load_dotenv()"
   ]
  },
  {
   "cell_type": "code",
   "execution_count": 32,
   "metadata": {},
   "outputs": [
    {
     "name": "stdout",
     "output_type": "stream",
     "text": [
      "Number of rows before filtering:  25333\n",
      "Number of rows after filtering:  729\n",
      "Number of rows after removing duplicates:  707\n"
     ]
    },
    {
     "name": "stderr",
     "output_type": "stream",
     "text": [
      "/var/folders/m5/0x0gwbxx1kz02qrmghysp2mw0000gn/T/ipykernel_21732/1300596792.py:3: DtypeWarning: Columns (0,15,17,18,25,26,35,36,37,38,40,41,42,51,52,53,62,63) have mixed types. Specify dtype option on import or set low_memory=False.\n",
      "  df = pd.read_csv('opgen_2022.csv', header=2)\n"
     ]
    }
   ],
   "source": [
    "# load opgen_2022.csv in pandas df\n",
    "#set header as third row\n",
    "df = pd.read_csv('opgen_2022.csv', header=2)\n",
    "# Print the number of rows in the dataframe before filtering with a label\n",
    "print(\"Number of rows before filtering: \", len(df))\n",
    "\n",
    "#filter for \"Prime Mover\" == \"WT\" or \"PV\" and \"Nameplate Capacity (MW)\" > 50\n",
    "df = df[(df['Prime Mover'] == 'WT') | (df['Prime Mover'] == 'PV')]\n",
    "# convert \"Nameplate Capacity (MW)\" to float\n",
    "df['Nameplate Capacity (MW)'] = df['Nameplate Capacity (MW)'].str.replace(',', '').astype(float)\n",
    "df = df[df['Nameplate Capacity (MW)'] > 100]\n",
    "print(\"Number of rows after filtering: \", len(df))\n",
    "# for each row with the same \"Plant Code\" only keep the first row\n",
    "df = df.drop_duplicates(subset=['Plant Code'])\n",
    "print(\"Number of rows after removing duplicates: \", len(df))\n",
    "# choose random 100 rows from the dataframe and save it to a new csv file\n",
    "df.sample(n=100).to_csv('random_100.csv', index=False)"
   ]
  },
  {
   "cell_type": "code",
   "execution_count": 48,
   "metadata": {},
   "outputs": [],
   "source": [
    "def search_query(plant_name, county, state, prime_mover):\n",
    "    \"\"\" This function takes in the Plant Name, County, State, and Prime Mover and returns a web engine search query string with the Plant Name County State and \"(controversy OR opposition OR lawsuit OR conflict OR hearing)\"\"\"\n",
    "    # Make sure plant_name, county, state, and prime_mover are all strings\n",
    "    plant_name = str(plant_name)\n",
    "    county = str(county)\n",
    "    state = str(state)\n",
    "    prime_mover = str(prime_mover)\n",
    "    # if the Prime Mover is \"PV\" and the Plant Name DOES NOT contain \"solar\" then add \"solar\" to the search query\n",
    "    if prime_mover == \"PV\" and \"solar\" not in plant_name.lower():\n",
    "        plant_name += \" Solar\"\n",
    "    # If the Prime Mover is \"WT\" and the Plant Name DOES NOT contain \"wind\" then add \"wind\" to the search query\n",
    "    if prime_mover == \"WT\" and \"wind\" not in plant_name.lower():\n",
    "        plant_name += \" Wind\"\n",
    "    #remove \"LLC\" from the plant name if it exists\n",
    "    #plant_name = plant_name.replace(\"LLC\", \"\")\n",
    "    state = state.upper()\n",
    "    # Use abbrev_to_us_state json file to convert state abbreviation to full state name\n",
    "    with open('abbrev_to_us_state.json') as f:\n",
    "        abbrev_to_us_state = json.load(f)\n",
    "    state = abbrev_to_us_state[state]\n",
    "    # create the search query\n",
    "    search_query = f\"{plant_name} {county} County {state} (controversy OR opposition OR lawsuit OR conflict OR hearing)\"\n",
    "    #remove quotation marks from the search query\n",
    "    search_query = search_query.replace('\"', \"\")\n",
    "    return search_query\n"
   ]
  },
  {
   "cell_type": "code",
   "execution_count": 49,
   "metadata": {},
   "outputs": [],
   "source": [
    "# load random_100.csv in pandas df\n",
    "df = pd.read_csv('random_100.csv')\n",
    "# create a new dataframe of search queries and fill it with the search_query function from the df\n",
    "search_queries = pd.DataFrame()\n",
    "search_queries['Search Query'] = df.apply(lambda row: search_query(row['Plant Name'], row['County'], row['State'], row['Prime Mover']), axis=1)\n",
    "\n"
   ]
  },
  {
   "cell_type": "code",
   "execution_count": 50,
   "metadata": {},
   "outputs": [],
   "source": [
    "search_queries.to_csv('search_queries.csv', index=False)\n"
   ]
  },
  {
   "cell_type": "code",
   "execution_count": 53,
   "metadata": {},
   "outputs": [
    {
     "data": {
      "text/html": [
       "<div>\n",
       "<style scoped>\n",
       "    .dataframe tbody tr th:only-of-type {\n",
       "        vertical-align: middle;\n",
       "    }\n",
       "\n",
       "    .dataframe tbody tr th {\n",
       "        vertical-align: top;\n",
       "    }\n",
       "\n",
       "    .dataframe thead th {\n",
       "        text-align: right;\n",
       "    }\n",
       "</style>\n",
       "<table border=\"1\" class=\"dataframe\">\n",
       "  <thead>\n",
       "    <tr style=\"text-align: right;\">\n",
       "      <th></th>\n",
       "      <th>Search Query</th>\n",
       "      <th>result</th>\n",
       "    </tr>\n",
       "  </thead>\n",
       "  <tbody>\n",
       "    <tr>\n",
       "      <th>0</th>\n",
       "      <td>Buffalo Gap 2 Wind Farm Nolan County Texas (co...</td>\n",
       "      <td></td>\n",
       "    </tr>\n",
       "    <tr>\n",
       "      <th>1</th>\n",
       "      <td>High Trail Wind Farm LLC McLean County Illinoi...</td>\n",
       "      <td></td>\n",
       "    </tr>\n",
       "    <tr>\n",
       "      <th>2</th>\n",
       "      <td>Eclipse Wind Farm Guthrie County Iowa (controv...</td>\n",
       "      <td></td>\n",
       "    </tr>\n",
       "    <tr>\n",
       "      <th>3</th>\n",
       "      <td>Rocksprings Wind Val Verde County Texas (contr...</td>\n",
       "      <td></td>\n",
       "    </tr>\n",
       "    <tr>\n",
       "      <th>4</th>\n",
       "      <td>Emmons-Logan Wind, LLC Emmons County North Dak...</td>\n",
       "      <td></td>\n",
       "    </tr>\n",
       "  </tbody>\n",
       "</table>\n",
       "</div>"
      ],
      "text/plain": [
       "                                        Search Query result\n",
       "0  Buffalo Gap 2 Wind Farm Nolan County Texas (co...       \n",
       "1  High Trail Wind Farm LLC McLean County Illinoi...       \n",
       "2  Eclipse Wind Farm Guthrie County Iowa (controv...       \n",
       "3  Rocksprings Wind Val Verde County Texas (contr...       \n",
       "4  Emmons-Logan Wind, LLC Emmons County North Dak...       "
      ]
     },
     "execution_count": 53,
     "metadata": {},
     "output_type": "execute_result"
    }
   ],
   "source": [
    "# create a new dataframe with the search queries and the results\n",
    "query = pd.read_csv('search_queries.csv')\n",
    "query['result'] = ''\n",
    "query.head()"
   ]
  },
  {
   "cell_type": "code",
   "execution_count": 56,
   "metadata": {},
   "outputs": [],
   "source": [
    "for index, row in query.iterrows():\n",
    "    if row['Search Query'] != 'initial' or pd.isnull(row['result']):\n",
    "        search = str(row['Search Query'])\n",
    "\n",
    "        opener = urllib.request.build_opener(\n",
    "            urllib.request.ProxyHandler(\n",
    "                {'http': os.environ['BRIGHTDATA_SERP_KEY'],\n",
    "                'https': os.environ['BRIGHTDATA_SERP_KEY']}))\n",
    "        search_query = urllib.parse.quote_plus(search)\n",
    "\n",
    "        results = json.loads(opener.open(f'http://www.google.com/search?q={search_query}&brd_json=1').read())\n",
    "        # need to format json result better\n",
    "        # print(json.dumps(results, indent=2))\n",
    "        query.at[index, 'result'] = json.dumps(results)\n",
    "    else: pass\n",
    "\n",
    "    query.head()"
   ]
  },
  {
   "cell_type": "code",
   "execution_count": 57,
   "metadata": {},
   "outputs": [],
   "source": [
    "query.to_csv('query_result.csv', index=False)"
   ]
  },
  {
   "cell_type": "code",
   "execution_count": null,
   "metadata": {},
   "outputs": [],
   "source": [
    "query = pd.read_csv('query.csv').head(2)\n",
    "for index, row in query.iterrows():\n",
    "    if row['query'] != 'initial' or pd.isnull(row['result']):\n",
    "        search = str(row['query'])\n",
    "\n",
    "        opener = urllib.request.build_opener(\n",
    "            urllib.request.ProxyHandler(\n",
    "                {'http': os.environ['BRIGHTDATA_SERP_KEY'],\n",
    "                'https': os.environ['BRIGHTDATA_SERP_KEY']}))\n",
    "        search_query = urllib.parse.quote_plus(search)\n",
    "\n",
    "        results = json.loads(opener.open(f'http://www.google.com/search?q={search_query}&brd_json=1').read())\n",
    "        # need to format json result better\n",
    "        # print(json.dumps(results, indent=2))\n",
    "        query.at[index, 'result'] = json.dumps(results)\n",
    "    else: pass"
   ]
  },
  {
   "cell_type": "code",
   "execution_count": 74,
   "metadata": {},
   "outputs": [],
   "source": [
    "def make_readable_result(result: str):\n",
    "    alphabet = \"ABCDEFGHIJKLMNOPQRSTUVWXYZ\"\n",
    "    result = json.loads(result)\n",
    "    # handle case where there are no organic results\n",
    "    if 'organic' not in result:\n",
    "        return \"No organic results found\"\n",
    "    # hand cases where there is no title, display_link, or description\n",
    "    for r in result['organic']:\n",
    "        if 'title' not in r:\n",
    "            r['title'] = \"\"\n",
    "        if 'display_link' not in r:\n",
    "            r['display_link'] = \"\"\n",
    "        if 'description' not in r:\n",
    "            r['description'] = \"\"\n",
    "    # create human readable string, but skip if there is no title, display_link, or description\n",
    "    human_readable = []\n",
    "    for i, r in enumerate(result['organic']):\n",
    "        if r['title'] and r['display_link'] and r['description']:\n",
    "            human_readable.append(f\"{alphabet[i]}. {r['title']} ({r['display_link']}) - {r['description']}\")\n",
    "  \n",
    "    return \"\\n\".join(human_readable)"
   ]
  },
  {
   "cell_type": "code",
   "execution_count": 75,
   "metadata": {},
   "outputs": [],
   "source": [
    "query['human_readable'] = query['result'].apply(make_readable_result)"
   ]
  },
  {
   "cell_type": "code",
   "execution_count": 78,
   "metadata": {},
   "outputs": [],
   "source": [
    "query.head()\n",
    "#rename \"Search Query\" column to \"query\"\n",
    "query = query.rename(columns={\"Search Query\": \"query\"})"
   ]
  },
  {
   "cell_type": "code",
   "execution_count": 89,
   "metadata": {},
   "outputs": [
    {
     "name": "stdout",
     "output_type": "stream",
     "text": [
      " Here are the relevance scores for the search results:\n",
      "\n",
      "A=5 (High Trail Wind Farm project approval)\n",
      "B=4 (High Trail Wind Farm legal issues)  \n",
      "C=5 (High Trail Wind Farm decommissioning funds)\n",
      "D=3 (High Trail Wind Farm LLC mentioned)\n",
      "E=4 (Testimony on proposed McLean County wind farm)\n",
      "F=5 (McLean County wind farms financial issues)\n",
      "G=4 (McLean County wind farm contributions) \n",
      "H=3 (High Trail Wind Farm LLC mentioned)\n",
      "I=2 (Nearby wind turbine collapse)\n",
      "J=4 (Proposed McLean County wind farm)\n"
     ]
    }
   ],
   "source": [
    "system_prompt = f'Our aim is to take a set of search results from Google corresponding to the following search query: {query.iloc[1][\"query\"]} and determine which search results are relevant to our research question. Based on the description of each URL and other metadata, we would like to identify which search results are most relevant to this research question: \"What is the narrative surrounding the development of this renewable energy project in this location, and what evidence of opposition or support for the project can be identified?\" Score each search result with a number between 1-5, with 1 being the least relevant and 5 being the most relevant. Here are examples of what might receive the following scores:\\n1 - an article that might be related to renewable energy but does not have any mention of the project or location in question\\n2 - an article that might be related to renewable energy near the location in question but does not mention the project\\n3 - an article that mentions the project and location in question, but only provides basic information about the project and no information on opposition or support\\n5 - an article that describes the narrative of the project development in detail, including mentions of opposition and support. Note the search results are listed in order of apperance from Google.Respond in the format, and do not include any other text in your response:\\nA=4 (< 8 word justification)\\nB=2 (< 8 word justification)\\n... Here are the search results: {query.iloc[1][\"human_readable\"]}'\n",
    "\n",
    "from anthropic import Anthropic, HUMAN_PROMPT, AI_PROMPT\n",
    "\n",
    "anthropic = Anthropic()\n",
    "completion = anthropic.completions.create(\n",
    "    model=\"claude-2\",\n",
    "    max_tokens_to_sample=300,\n",
    "    prompt=f\"{HUMAN_PROMPT} {system_prompt} {AI_PROMPT}\",\n",
    ")\n",
    "print(completion.completion)\n",
    "# remove everything BEFORE the first search result and save to cleaned_output"
   ]
  },
  {
   "cell_type": "code",
   "execution_count": 91,
   "metadata": {},
   "outputs": [
    {
     "name": "stdout",
     "output_type": "stream",
     "text": [
      "A=5 (High Trail Wind Farm project approval)\n",
      "B=4 (High Trail Wind Farm legal issues)  \n",
      "C=5 (High Trail Wind Farm decommissioning funds)\n",
      "D=3 (High Trail Wind Farm LLC mentioned)\n",
      "E=4 (Testimony on proposed McLean County wind farm)\n",
      "F=5 (McLean County wind farms financial issues)\n",
      "G=4 (McLean County wind farm contributions) \n",
      "H=3 (High Trail Wind Farm LLC mentioned)\n",
      "I=2 (Nearby wind turbine collapse)\n",
      "J=4 (Proposed McLean County wind farm)\n"
     ]
    }
   ],
   "source": [
    "cleaned_output = \"A=\" + completion.completion.split(\"A=\")[1]\n",
    "print(cleaned_output)"
   ]
  },
  {
   "cell_type": "code",
   "execution_count": 24,
   "metadata": {},
   "outputs": [],
   "source": [
    "# for each row in query, ask the AI to score the search results and save the AI output to a new column\n",
    "from pydantic import BaseModel, Field\n",
    "from typing import List\n",
    "from openai import OpenAI\n",
    "import instructor\n",
    "\n",
    "client = instructor.patch(OpenAI(api_key=os.environ['OPENAI_API_KEY']))\n",
    "\n",
    "class ArticleScore(BaseModel):\n",
    "    article_letter: str = Field(..., description=\"The letter of the article (A, B, C, etc.)\")\n",
    "    grade: int = Field(..., description=\"The grade of the article (1-5)\")\n",
    "    justification: str = Field(..., description=\"The justification for the grade. Use no more than 8 words.\")\n",
    "\n",
    "class Scores(BaseModel):\n",
    "    scores: List[ArticleScore]\n",
    "\n",
    "\n",
    "scores = client.chat.completions.create(\n",
    "    model=\"gpt-3.5-turbo\",\n",
    "    response_model=Scores,\n",
    "    messages=[\n",
    "        {\"role\": \"system\", \"content\": f'Our aim is to take a set of search results from Google corresponding to the following search query: {row[\"query\"]} and determine which search results are relevant to our research question. Based on the description of each URL and other metadata, we would like to identify which search results are most relevant to this research question: \"What is the narrative surrounding the development of this renewable energy project in this location, and what evidence of opposition or support for the project can be identified?\" Score each search result with a number between 1-5, with 1 being the least relevant and 5 being the most relevant. Here are examples of what might receive the following scores:\\n1 - an article that might be related to renewable energy but does not have any mention of the project or location in question\\n2 - an article that might be related to renewable energy near the location in question but does not mention the project\\n3 - an article that mentions the project and location in question, but only provides basic information about the project and no information on opposition or support\\n5 - an article that describes the narrative of the project development in detail, including mentions of opposition and support. Note the search results are listed in order of apperance from Google....'},\n",
    "        {\"role\": \"user\", \"content\": f\"Here are the search results: {row['human_readable']}\"}\n",
    "    ],\n",
    ")\n",
    "\n",
    "\n",
    "\n",
    "\n",
    "\n",
    "# query['relevance_scores'] = \"\"\n",
    "# for index, row in tqdm(query.iterrows()):\n",
    "#     system_prompt = f'Our aim is to take a set of search results from Google corresponding to the following search query: {row[\"query\"]} and determine which search results are relevant to our research question. Based on the description of each URL and other metadata, we would like to identify which search results are most relevant to this research question: \"What is the narrative surrounding the development of this renewable energy project in this location, and what evidence of opposition or support for the project can be identified?\" Score each search result with a number between 1-5, with 1 being the least relevant and 5 being the most relevant. Here are examples of what might receive the following scores:\\n1 - an article that might be related to renewable energy but does not have any mention of the project or location in question\\n2 - an article that might be related to renewable energy near the location in question but does not mention the project\\n3 - an article that mentions the project and location in question, but only provides basic information about the project and no information on opposition or support\\n5 - an article that describes the narrative of the project development in detail, including mentions of opposition and support. Note the search results are listed in order of apperance from Google.Respond in the format, and do not include any other text in your response:\\nA=4 (< 8 word justification)\\nB=2 (< 8 word justification)\\n... Here are the search results: {row[\"human_readable\"]}'\n",
    "#     completion = anthropic.completions.create(\n",
    "#         model=\"claude-2\",\n",
    "#         max_tokens_to_sample=1000,\n",
    "#         prompt=f\"{HUMAN_PROMPT} {system_prompt} {AI_PROMPT}\",\n",
    "#     )\n",
    "#     # only include results from \"A\" to the last \")\"\n",
    "#     cleaned_output = \"A=\" + completion.completion.split(\"A=\")[1]\n",
    "#     query.at[index, 'relevance_scores'] = cleaned_output"
   ]
  },
  {
   "cell_type": "code",
   "execution_count": 26,
   "metadata": {},
   "outputs": [
    {
     "name": "stdout",
     "output_type": "stream",
     "text": [
      "{\"scores\":[{\"article_letter\":\"A\",\"grade\":3,\"justification\":\"mentions Buffalo Gap wind farm\"},{\"article_letter\":\"B\",\"grade\":2,\"justification\":\"mentions wind development but no Buffalo Gap project\"},{\"article_letter\":\"C\",\"grade\":3,\"justification\":\"lawsuit involving Buffalo Gap Wind Farm LLC\"},{\"article_letter\":\"D\",\"grade\":4,\"justification\":\"provides information about Buffalo Gap Wind Farm\"},{\"article_letter\":\"E\",\"grade\":3,\"justification\":\"mentions Buffalo Gap Wind Farm\"},{\"article_letter\":\"F\",\"grade\":3,\"justification\":\"mentions a lawsuit involving a wind farm in Texas\"},{\"article_letter\":\"G\",\"grade\":2,\"justification\":\"technical information, no mention of opposition or conflict\"},{\"article_letter\":\"H\",\"grade\":2,\"justification\":\"general information about wind-power royalties, no specific mention of Buffalo Gap 2 Wind Farm\"},{\"article_letter\":\"I\",\"grade\":3,\"justification\":\"case study mentions Buffalo Gap Project\"},{\"article_letter\":\"J\",\"grade\":2,\"justification\":\"table of contents, no specific information about opposition or support\"}]}\n"
     ]
    }
   ],
   "source": [
    "print(scores.model_dump_json())"
   ]
  },
  {
   "cell_type": "code",
   "execution_count": null,
   "metadata": {},
   "outputs": [],
   "source": [
    "# for each row in query, ask the AI to score the search results and save the AI output to a new column\n",
    "from pydantic import BaseModel, Field\n",
    "from typing import List\n",
    "from openai import OpenAI\n",
    "import instructor\n",
    "\n",
    "client = instructor.patch(OpenAI(api_key=os.environ['OPENAI_API_KEY']))\n",
    "\n",
    "class PlantPerceptions(BaseModel):\n",
    "    mention_support: int = Field(..., description=\"1 if any mention of support (e.g., an individual or organization mentioned in support of the project), 0 if not\")\n",
    "    mention_opp: int = Field(..., description=\"1 if any mention of opposition (e.g., an individual or organization mentioned in opposition of the project), 0 if not\")\n",
    "    physical_opp: int = Field(..., description=\"1 if evidence of physical opposition involving at least one person (e.g., protests, marches, picketing, mass presence at governmental meetings), 0 if not\")\n",
    "    policy_opp: int = Field(..., description=\"1 if evidence of the use or attempted use of legislation or permitting to block projects, 0 if not\")\n",
    "    legal_opp: int = Field(..., description=\"1 if evidence of legal challenges and the use of courts to block projects, 0 if not\")\n",
    "    opinion_opp: int = Field(..., description=\"1 if any opinion-editorials or other media explicitly opposing a project exist, 0 if not\")\n",
    "    narrative: str = Field(..., description=\"A one-paragraph narrative summary of the public perceptions of the project, including the project name, location, and developer, when it was proposed, the public response, and details on any evidence of opposition or support.\")\n",
    "\n",
    "class PlantSummary(BaseModel):\n",
    "    scores: List[PlantPerceptions]\n",
    "\n",
    "\n",
    "plant_perceptions = client.chat.completions.create(\n",
    "    model=\"gpt-3.5-turbo\",\n",
    "    response_model=PlantSummary,\n",
    "    messages=[\n",
    "        {\"role\": \"system\", \"content\": f'Our aim is to understand the public opinion and perceptions of a particular renewable energy project based solely on online media evidence from a search engine query on the project. Based on the full text content of all search results, we would like to answer several binary questions about whether or not there is evidence of opposition or support for the project. Use only the text content provided to answer these questions with a “1” if evidence is found and “0” if not, and finally to create a one-paragraph summary of public perceptions of the project.'},\n",
    "        {\"role\": \"user\", \"content\": f\"Here is the name and location of the project in question () from which the following search result content is generated: \"}\n",
    "    ],\n",
    ")\n"
   ]
  },
  {
   "cell_type": "code",
   "execution_count": 94,
   "metadata": {},
   "outputs": [
    {
     "data": {
      "text/html": [
       "<div>\n",
       "<style scoped>\n",
       "    .dataframe tbody tr th:only-of-type {\n",
       "        vertical-align: middle;\n",
       "    }\n",
       "\n",
       "    .dataframe tbody tr th {\n",
       "        vertical-align: top;\n",
       "    }\n",
       "\n",
       "    .dataframe thead th {\n",
       "        text-align: right;\n",
       "    }\n",
       "</style>\n",
       "<table border=\"1\" class=\"dataframe\">\n",
       "  <thead>\n",
       "    <tr style=\"text-align: right;\">\n",
       "      <th></th>\n",
       "      <th>query</th>\n",
       "      <th>result</th>\n",
       "      <th>human_readable</th>\n",
       "      <th>relevance_scores</th>\n",
       "    </tr>\n",
       "  </thead>\n",
       "  <tbody>\n",
       "    <tr>\n",
       "      <th>0</th>\n",
       "      <td>Buffalo Gap 2 Wind Farm Nolan County Texas (co...</td>\n",
       "      <td>{\"general\": {\"search_engine\": \"google\", \"langu...</td>\n",
       "      <td>A. Selected Issues in Multi-Party Wind Lease N...</td>\n",
       "      <td>A=4 (mentions project location)\\nB=2 (related ...</td>\n",
       "    </tr>\n",
       "    <tr>\n",
       "      <th>1</th>\n",
       "      <td>High Trail Wind Farm LLC McLean County Illinoi...</td>\n",
       "      <td>{\"general\": {\"search_engine\": \"google\", \"resul...</td>\n",
       "      <td>A. CASE NO.: ZA - 20 - 01 (https://www.mcleanc...</td>\n",
       "      <td>A=4 (Directly mentions project location and op...</td>\n",
       "    </tr>\n",
       "    <tr>\n",
       "      <th>2</th>\n",
       "      <td>Eclipse Wind Farm Guthrie County Iowa (controv...</td>\n",
       "      <td>{\"general\": {\"search_engine\": \"google\", \"resul...</td>\n",
       "      <td>A. Iowa wind developers forced to take down tu...</td>\n",
       "      <td>A=5 (Details opposition to specific wind farm ...</td>\n",
       "    </tr>\n",
       "    <tr>\n",
       "      <th>3</th>\n",
       "      <td>Rocksprings Wind Val Verde County Texas (contr...</td>\n",
       "      <td>{\"general\": {\"search_engine\": \"google\", \"resul...</td>\n",
       "      <td>A. Commercial Property Tax Appraisal lawsuits ...</td>\n",
       "      <td>A=4 (Specifically mentions lawsuit over proper...</td>\n",
       "    </tr>\n",
       "    <tr>\n",
       "      <th>4</th>\n",
       "      <td>Emmons-Logan Wind, LLC Emmons County North Dak...</td>\n",
       "      <td>{\"general\": {\"search_engine\": \"google\", \"resul...</td>\n",
       "      <td>A. UPDATE: Public Service Commission denies 30...</td>\n",
       "      <td>A=4 (Directly relevant)\\nB=5 (Approves permits...</td>\n",
       "    </tr>\n",
       "  </tbody>\n",
       "</table>\n",
       "</div>"
      ],
      "text/plain": [
       "                                               query  \\\n",
       "0  Buffalo Gap 2 Wind Farm Nolan County Texas (co...   \n",
       "1  High Trail Wind Farm LLC McLean County Illinoi...   \n",
       "2  Eclipse Wind Farm Guthrie County Iowa (controv...   \n",
       "3  Rocksprings Wind Val Verde County Texas (contr...   \n",
       "4  Emmons-Logan Wind, LLC Emmons County North Dak...   \n",
       "\n",
       "                                              result  \\\n",
       "0  {\"general\": {\"search_engine\": \"google\", \"langu...   \n",
       "1  {\"general\": {\"search_engine\": \"google\", \"resul...   \n",
       "2  {\"general\": {\"search_engine\": \"google\", \"resul...   \n",
       "3  {\"general\": {\"search_engine\": \"google\", \"resul...   \n",
       "4  {\"general\": {\"search_engine\": \"google\", \"resul...   \n",
       "\n",
       "                                      human_readable  \\\n",
       "0  A. Selected Issues in Multi-Party Wind Lease N...   \n",
       "1  A. CASE NO.: ZA - 20 - 01 (https://www.mcleanc...   \n",
       "2  A. Iowa wind developers forced to take down tu...   \n",
       "3  A. Commercial Property Tax Appraisal lawsuits ...   \n",
       "4  A. UPDATE: Public Service Commission denies 30...   \n",
       "\n",
       "                                    relevance_scores  \n",
       "0  A=4 (mentions project location)\\nB=2 (related ...  \n",
       "1  A=4 (Directly mentions project location and op...  \n",
       "2  A=5 (Details opposition to specific wind farm ...  \n",
       "3  A=4 (Specifically mentions lawsuit over proper...  \n",
       "4  A=4 (Directly relevant)\\nB=5 (Approves permits...  "
      ]
     },
     "execution_count": 94,
     "metadata": {},
     "output_type": "execute_result"
    }
   ],
   "source": [
    "query.head()"
   ]
  },
  {
   "cell_type": "code",
   "execution_count": 98,
   "metadata": {},
   "outputs": [],
   "source": [
    "query.to_csv('query_with_relevance_scores.csv', index=False)"
   ]
  },
  {
   "cell_type": "code",
   "execution_count": 3,
   "metadata": {},
   "outputs": [],
   "source": [
    "query = pd.read_csv('query_scores_code.csv')"
   ]
  },
  {
   "cell_type": "code",
   "execution_count": 4,
   "metadata": {},
   "outputs": [],
   "source": [
    "headers = {\n",
    "    'Access-Control-Allow-Origin': '*',\n",
    "    'Access-Control-Allow-Methods': 'GET',\n",
    "    'Access-Control-Allow-Headers': 'Content-Type',\n",
    "    'Access-Control-Max-Age': '3600',\n",
    "    'User-Agent': 'Mozilla/5.0 (X11; Ubuntu; Linux x86_64; rv:52.0) Gecko/20100101 Firefox/52.0'\n",
    "    }"
   ]
  },
  {
   "cell_type": "code",
   "execution_count": 122,
   "metadata": {},
   "outputs": [
    {
     "name": "stdout",
     "output_type": "stream",
     "text": [
      "https://guthriecounty.gov/wp-content/uploads/2019/06/13-14Minutes.pdf\n"
     ]
    }
   ],
   "source": [
    "url = json.loads(query.iloc[2]['result'])['organic'][3]['link']\n",
    "print(url)\n",
    "#req = requests.get(url, headers)\n",
    "\n",
    "r = requests.get(url, headers)\n",
    "content_type = r.headers.get('content-type')\n",
    "\n",
    "if 'application/pdf' in content_type:\n",
    "    ext = '.pdf'\n",
    "elif 'text/html' in content_type:\n",
    "    ext = '.html'\n",
    "else:\n",
    "    ext = ''\n",
    "    print('Unknown type: {}'.format(content_type))\n",
    "\n",
    "with open('myfile'+ext, 'wb') as f:\n",
    "    if ext == '.pdf':\n",
    "        f.write(r.content)\n",
    "    else:\n",
    "        soup = BeautifulSoup(r.content, 'html.parser')\n",
    "    # dump contents of soup into file\n",
    "        f.write(soup.prettify().encode('utf-8'))\n",
    "\n",
    "\n",
    "# download_file(url)\n",
    "# soup = BeautifulSoup(req.content, 'html.parser')\n",
    "# print(soup)"
   ]
  },
  {
   "cell_type": "code",
   "execution_count": 139,
   "metadata": {},
   "outputs": [],
   "source": [
    "# for all relevance scores in relevance_scores, extract each score and add a new column called \"avg_relevance_score\"\n",
    "# each int of score is preceded directly by \"=\" and followed by a space\n",
    "\n",
    "query['avg_relevance_score'] = query['relevance_scores'].apply(lambda x: sum([int(i) for i in re.findall(r'=(\\d)', x)]) / len(re.findall(r'=(\\d)', x)))"
   ]
  },
  {
   "cell_type": "code",
   "execution_count": 141,
   "metadata": {},
   "outputs": [],
   "source": [
    "# from original df of random_100, add a new column to query called \"plant_code\" and \"capacity\" and fill it with the corresponding plant code and capacity from the original df\n",
    "query['plant_code'] = df['Plant Code']\n",
    "query['capacity'] = df['Nameplate Capacity (MW)']"
   ]
  },
  {
   "cell_type": "code",
   "execution_count": 145,
   "metadata": {},
   "outputs": [
    {
     "data": {
      "image/png": "[encoded data removed]",
      "text/plain": [
       "<Figure size 1000x600 with 1 Axes>"
      ]
     },
     "metadata": {},
     "output_type": "display_data"
    },
    {
     "name": "stdout",
     "output_type": "stream",
     "text": [
      "PearsonRResult(statistic=-0.02603922296716951, pvalue=0.7970536762815106)\n"
     ]
    }
   ],
   "source": [
    "# graph correlating capacity with avg_relevance_score\n",
    "import matplotlib.pyplot as plt\n",
    "import seaborn as sns\n",
    "sns.set_theme(style=\"whitegrid\")\n",
    "plt.figure(figsize=(10, 6))\n",
    "sns.scatterplot(data=query, x=\"capacity\", y=\"avg_relevance_score\")\n",
    "plt.title(\"Capacity vs. Average Relevance Score\")\n",
    "plt.show()\n",
    "\n",
    "# what is the R^2 value of the correlation between capacity and avg_relevance_score?\n",
    "from scipy.stats import pearsonr\n",
    "print(pearsonr(query['capacity'], query['avg_relevance_score']))\n"
   ]
  },
  {
   "cell_type": "code",
   "execution_count": 146,
   "metadata": {},
   "outputs": [],
   "source": [
    "query.to_csv('query_scores_code.csv', index=False)"
   ]
  },
  {
   "cell_type": "code",
   "execution_count": 147,
   "metadata": {},
   "outputs": [
    {
     "name": "stderr",
     "output_type": "stream",
     "text": [
      "/var/folders/m5/0x0gwbxx1kz02qrmghysp2mw0000gn/T/ipykernel_21732/2222391587.py:31: FutureWarning: \n",
      "\n",
      "Passing `palette` without assigning `hue` is deprecated and will be removed in v0.14.0. Assign the `x` variable to `hue` and set `legend=False` for the same effect.\n",
      "\n",
      "  sns.barplot(x=letters, y=avg_scores_list, palette=\"viridis\")\n"
     ]
    },
    {
     "data": {
      "image/png": "[encoded data removed]",
      "text/plain": [
       "<Figure size 1000x600 with 1 Axes>"
      ]
     },
     "metadata": {},
     "output_type": "display_data"
    }
   ],
   "source": [
    "import pandas as pd\n",
    "import matplotlib.pyplot as plt\n",
    "import seaborn as sns\n",
    "import re\n",
    "\n",
    "# Initialize a dictionary to hold the sum of scores and count for each letter\n",
    "scores_sum = {letter: 0 for letter in \"ABCDEFGHIJ\"}\n",
    "counts = {letter: 0 for letter in \"ABCDEFGHIJ\"}\n",
    "\n",
    "# Function to extract scores and update the scores_sum and counts dictionaries\n",
    "def extract_and_update_scores(relevance_scores):\n",
    "    for letter in \"ABCDEFGHIJ\":\n",
    "        # Find all occurrences of the pattern (e.g., \"A=4\") and sum their scores\n",
    "        found_scores = re.findall(rf\"{letter}=(\\d)\", relevance_scores)\n",
    "        if found_scores:\n",
    "            scores_sum[letter] += sum([int(score) for score in found_scores])\n",
    "            counts[letter] += len(found_scores)\n",
    "\n",
    "# Apply the function to each row in the 'relevance_scores' column\n",
    "query['relevance_scores'].apply(extract_and_update_scores)\n",
    "\n",
    "# Calculate the average score for each letter\n",
    "avg_scores = {letter: scores_sum[letter] / counts[letter] if counts[letter] != 0 else 0 for letter in \"ABCDEFGHIJ\"}\n",
    "\n",
    "# Prepare data for plotting\n",
    "letters = list(avg_scores.keys())\n",
    "avg_scores_list = list(avg_scores.values())\n",
    "\n",
    "# Plotting\n",
    "plt.figure(figsize=(10, 6))\n",
    "sns.barplot(x=letters, y=avg_scores_list, palette=\"viridis\")\n",
    "plt.title(\"Average Relevance Score by Letter\")\n",
    "plt.xlabel(\"Letter\")\n",
    "plt.ylabel(\"Average Relevance Score\")\n",
    "plt.show()\n"
   ]
  },
  {
   "cell_type": "code",
   "execution_count": 5,
   "metadata": {},
   "outputs": [
    {
     "name": "stdout",
     "output_type": "stream",
     "text": [
      "ChatCompletion(id='ccc089c9-564e-4ce3-a06b-58208192f2a1', choices=[Choice(finish_reason='stop', index=0, message=ChatCompletionMessage(content='The Eclipse Wind Farm is a renewable energy project located in Guthrie County, Iowa. The wind farm, developed by Eclipse Renewable Energy, consists of 105 wind turbines with a total capacity of 200 megawatts (MW). The project has been the subject of controversy and opposition, as well as support, since its inception.\\n\\nControversy and Opposition:\\n\\n1. Health Concerns: Some residents and opponents argue that wind turbines can cause health problems, such as headaches, dizziness, and sleep disturbances. They claim that the low-frequency noise and infrasound emitted by wind turbines can be harmful to human health. According to a report by the Iowa Department of Public Health, there is no conclusive evidence that wind turbines cause health problems in the general population. However, some individuals may be more sensitive to the noise and infrasound, and the Iowa Department of Public Health recommends that wind energy developers work with local communities to address concerns and minimize potential impacts.\\n2. Property Values: Some opponents argue that wind turbines can negatively impact property values. A study by the National Renewable Energy Laboratory found that wind turbines generally do not have a significant impact on property values, but individual cases may vary.\\n3. Visual Impact: Some residents and opponents argue that wind turbines are unsightly and can negatively impact the visual landscape. The American Wind Energy Association (AWEA) notes that wind turbines can be integrated into the landscape through careful siting and design, and that many communities have come to view wind turbines as an economic and environmental asset.\\n4. Bird and Bat Mortality: Wind turbines can pose a risk to birds and bats, and some opponents argue that the Eclipse Wind Farm could harm local populations of these species. The U.S. Fish and Wildlife Service has reviewed the project and determined that it is unlikely to adversely affect threatened or endangered species. However, the project will implement measures to minimize the risk to birds and bats, such as adjusting turbine operations during migration periods and conducting regular monitoring.\\n\\nSupport:\\n\\n1. Economic Benefits: Supporters argue that the Eclipse Wind Farm will bring economic benefits to Guthrie County and the state of Iowa. The project is expected to create jobs during construction and operation, and will provide revenue to the county through property taxes and payments to landowners.\\n2. Environmental Benefits: Supporters argue that the Eclipse Wind Farm will help reduce greenhouse gas emissions and contribute to Iowa\\'s goal of generating 100% of its electricity from renewable sources by 2050. The project is also expected to help diversify Iowa\\'s energy portfolio and reduce reliance on fossil fuels.\\n3. Community Support: Some residents and local organizations support the Eclipse Wind Farm and view it as an opportunity to promote renewable energy and reduce reliance on fossil fuels. For example, the Guthrie County Conservation Board has expressed support for the project and has worked with Eclipse Renewable Energy to develop educational materials about wind energy.\\n\\nOnline Evidence:\\n\\n1. Iowa Department of Public Health: \"Wind Energy and Human Health: A Review of the Scientific Evidence\" (<https://idph.iowa.gov/-/media/IDPH/Environmental-Health/Wind-Energy/Wind-Energy-and-Human-Health-A-Review-of-the-Scientific-Evidence.pdf>)\\n2. National Renewable Energy Laboratory: \"Wind Energy and Property Values: A Review of the Literature\" (<https://www.nrel.gov/docs/fy15osti/63832.pdf>)\\n3. American Wind Energy Association: \"Wind Energy and Property Values\" (<https://www.awea.org/wind-energy-and-property-values>)\\n4. U.S. Fish and Wildlife Service: \"Eclipse Wind Farm, Guthrie County, Iowa\" (<https://ecos.fws.gov/docs/document/101388/122211/122211_0.pdf>)\\n5. Guthrie County Conservation Board: \"Wind Energy\" (<https://www.guthriecountyconservation.org/wind-energy/>)\\n6. Eclipse Renewable Energy: \"Eclipse Wind Farm\" (<https://www.eclipsewindfarm.com/>)\\n7. Des Moines Register: \"Eclipse Wind Farm in Guthrie County: What you need to know\" (<https://www.desmoinesregister.com/story/news/local/2021/02/18/eclipse-wind-farm-guthrie-county-iowa-what-you-need-know/4501255001/>)\\n8. The Gazette: \"Eclipse Wind Farm in Guthrie County: A look at the project and its controversy\" (<https://www.thegazette.com/subject/news/local/eclipse-wind-farm-in-guthrie-county-a-look-at-the-project-and-its-controversy-20210218>)', role='assistant', function_call=None, tool_calls=None), delta={'role': 'assistant', 'content': ''})], created=3973488, model='mistral-7b-instruct', object='chat.completion', system_fingerprint=None, usage=CompletionUsage(completion_tokens=1173, prompt_tokens=75, total_tokens=1248))\n"
     ]
    }
   ],
   "source": [
    "import openai\n",
    "from openai import OpenAI\n",
    "\n",
    "messages = [\n",
    "    {\n",
    "        \"role\": \"system\",\n",
    "        \"content\": (\n",
    "            \"You are an artificial intelligence assistant for research on conflicts around renewable energy projects in the US and you need to provide detailed, accurate responses to user questions about specific renewable energy projects.\"\n",
    "        ),\n",
    "    },\n",
    "    {\n",
    "        \"role\": \"user\",\n",
    "        \"content\": (\n",
    "            f\"Please describe the online evidence for controversy, opposition, and support for the renewable energy project {query.iloc[2]['query'].split(' (controversy OR opposition OR lawsuit OR conflict OR hearing)')[0]}.\"\n",
    "        ),\n",
    "    },\n",
    "]\n",
    "\n",
    "client = OpenAI(api_key=os.environ[\"PERPLEXITY_API_KEY\"], base_url=\"https://api.perplexity.ai\")\n",
    "\n",
    "# chat completion without streaming\n",
    "response = client.chat.completions.create(\n",
    "    model=\"mistral-7b-instruct\",\n",
    "    messages=messages,\n",
    ")\n",
    "print(response)\n"
   ]
  },
  {
   "cell_type": "code",
   "execution_count": 131,
   "metadata": {},
   "outputs": [
    {
     "name": "stdout",
     "output_type": "stream",
     "text": [
      "<html>\n",
      "<head><title>401 Authorization Required</title></head>\n",
      "<body>\n",
      "<center><h1>401 Authorization Required</h1></center>\n",
      "<hr><center>openresty/1.21.4.3</center>\n",
      "<script defer src=\"https://static.cloudflareinsights.com/beacon.min.js/v84a3a4012de94ce1a686ba8c167c359c1696973893317\" integrity=\"sha512-euoFGowhlaLqXsPWQ48qSkBSCFs3DPRyiwVu3FjR96cMPx+Fr+gpWRhIafcHwqwCqWS42RZhIudOvEI+Ckf6MA==\" data-cf-beacon='{\"rayId\":\"85c61f648c3e4cfa\",\"b\":1,\"version\":\"2024.2.1\",\"token\":\"92730c73a9e747fbb6a25e1d6657122d\"}' crossorigin=\"anonymous\"></script>\n",
      "</body>\n",
      "</html>\n",
      "\n"
     ]
    }
   ],
   "source": [
    "url = \"https://api.perplexity.ai/chat/completions\"\n",
    "\n",
    "payload = {\n",
    "    \"model\": \"mistral-7b-instruct\",\n",
    "    \"messages\": [\n",
    "        {\n",
    "            \"role\": \"system\",\n",
    "            \"content\": \"You are an artificial intelligence assistant for research on conflicts around renewable energy projects in the US and you need to provide detailed, accurate responses to user questions about specific renewable energy projects.\"\n",
    "        },\n",
    "        {\n",
    "            \"role\": \"user\",\n",
    "            \"content\": f\"Please describe the online evidence for controversy, opposition, and support for the renewable energy project {query.iloc[2]['query'].split(' (controversy OR opposition OR lawsuit OR conflict OR hearing)')[0]}.\"\n",
    "        }\n",
    "    ]\n",
    "}\n",
    "headers = {\n",
    "    \"accept\": \"application/json\",\n",
    "    \"content-type\": \"application/json\"\n",
    "}\n",
    "\n",
    "response = requests.post(url, json=payload, headers=headers)\n",
    "\n",
    "print(response.text)"
   ]
  },
  {
   "cell_type": "code",
   "execution_count": 137,
   "metadata": {},
   "outputs": [
    {
     "ename": "ImportError",
     "evalue": "cannot import name 'OpenAI' from 'openai' (/opt/homebrew/Caskroom/miniconda/base/lib/python3.11/site-packages/openai/__init__.py)",
     "output_type": "error",
     "traceback": [
      "\u001b[0;31m---------------------------------------------------------------------------\u001b[0m",
      "\u001b[0;31mImportError\u001b[0m                               Traceback (most recent call last)",
      "Cell \u001b[0;32mIn[137], line 2\u001b[0m\n\u001b[1;32m      1\u001b[0m \u001b[38;5;28;01mimport\u001b[39;00m \u001b[38;5;21;01mopenai\u001b[39;00m\n\u001b[0;32m----> 2\u001b[0m \u001b[38;5;28;01mfrom\u001b[39;00m \u001b[38;5;21;01mopenai\u001b[39;00m \u001b[38;5;28;01mimport\u001b[39;00m OpenAI\n\u001b[1;32m      3\u001b[0m \u001b[38;5;28;01mfrom\u001b[39;00m \u001b[38;5;21;01mpackaging\u001b[39;00m \u001b[38;5;28;01mimport\u001b[39;00m version\n\u001b[1;32m      5\u001b[0m required_version \u001b[38;5;241m=\u001b[39m version\u001b[38;5;241m.\u001b[39mparse(\u001b[38;5;124m\"\u001b[39m\u001b[38;5;124m1.1.1\u001b[39m\u001b[38;5;124m\"\u001b[39m) \u001b[38;5;66;03m# replace the version by the version you want\u001b[39;00m\n",
      "\u001b[0;31mImportError\u001b[0m: cannot import name 'OpenAI' from 'openai' (/opt/homebrew/Caskroom/miniconda/base/lib/python3.11/site-packages/openai/__init__.py)"
     ]
    }
   ],
   "source": [
    "import openai\n",
    "from openai import OpenAI\n",
    "from packaging import version\n",
    "\n",
    "required_version = version.parse(\"1.1.1\") # replace the version by the version you want\n",
    "current_version = version.parse(openai.__version__)\n",
    "\n",
    "if current_version < required_version:\n",
    "    raise ValueError(f\"Error: OpenAI version {openai.__version__}\"\n",
    "                     \" is less than the required version 1.1.1\")\n",
    "else:\n",
    "    print(\"OpenAI version is compatible.\")"
   ]
  },
  {
   "cell_type": "code",
   "execution_count": 133,
   "metadata": {},
   "outputs": [
    {
     "name": "stdout",
     "output_type": "stream",
     "text": [
      "Collecting openai==1.1.1\n",
      "  Obtaining dependency information for openai==1.1.1 from https://files.pythonhosted.org/packages/f7/86/ea99e3f966a639a3256e2f79d78cd63d45d5eb651a5457ccbdcfd9eed24a/openai-1.1.1-py3-none-any.whl.metadata\n",
      "  Downloading openai-1.1.1-py3-none-any.whl.metadata (16 kB)\n",
      "Requirement already satisfied: anyio<4,>=3.5.0 in /opt/homebrew/Caskroom/miniconda/base/lib/python3.11/site-packages (from openai==1.1.1) (3.7.1)\n",
      "Requirement already satisfied: distro<2,>=1.7.0 in /opt/homebrew/Caskroom/miniconda/base/lib/python3.11/site-packages (from openai==1.1.1) (1.8.0)\n",
      "Requirement already satisfied: httpx<1,>=0.23.0 in /opt/homebrew/Caskroom/miniconda/base/lib/python3.11/site-packages (from openai==1.1.1) (0.25.2)\n",
      "Requirement already satisfied: pydantic<3,>=1.9.0 in /opt/homebrew/Caskroom/miniconda/base/lib/python3.11/site-packages (from openai==1.1.1) (2.5.2)\n",
      "Requirement already satisfied: tqdm>4 in /opt/homebrew/Caskroom/miniconda/base/lib/python3.11/site-packages (from openai==1.1.1) (4.65.0)\n",
      "Requirement already satisfied: typing-extensions<5,>=4.5 in /opt/homebrew/Caskroom/miniconda/base/lib/python3.11/site-packages (from openai==1.1.1) (4.8.0)\n",
      "Requirement already satisfied: idna>=2.8 in /opt/homebrew/Caskroom/miniconda/base/lib/python3.11/site-packages (from anyio<4,>=3.5.0->openai==1.1.1) (3.4)\n",
      "Requirement already satisfied: sniffio>=1.1 in /opt/homebrew/Caskroom/miniconda/base/lib/python3.11/site-packages (from anyio<4,>=3.5.0->openai==1.1.1) (1.3.0)\n",
      "Requirement already satisfied: certifi in /opt/homebrew/Caskroom/miniconda/base/lib/python3.11/site-packages (from httpx<1,>=0.23.0->openai==1.1.1) (2023.7.22)\n",
      "Requirement already satisfied: httpcore==1.* in /opt/homebrew/Caskroom/miniconda/base/lib/python3.11/site-packages (from httpx<1,>=0.23.0->openai==1.1.1) (1.0.2)\n",
      "Requirement already satisfied: h11<0.15,>=0.13 in /opt/homebrew/Caskroom/miniconda/base/lib/python3.11/site-packages (from httpcore==1.*->httpx<1,>=0.23.0->openai==1.1.1) (0.14.0)\n",
      "Requirement already satisfied: annotated-types>=0.4.0 in /opt/homebrew/Caskroom/miniconda/base/lib/python3.11/site-packages (from pydantic<3,>=1.9.0->openai==1.1.1) (0.6.0)\n",
      "Requirement already satisfied: pydantic-core==2.14.5 in /opt/homebrew/Caskroom/miniconda/base/lib/python3.11/site-packages (from pydantic<3,>=1.9.0->openai==1.1.1) (2.14.5)\n",
      "Downloading openai-1.1.1-py3-none-any.whl (217 kB)\n",
      "\u001b[2K   \u001b[90m━━━━━━━━━━━━━━━━━━━━━━━━━━━━━━━━━━━━━━━━\u001b[0m \u001b[32m217.8/217.8 kB\u001b[0m \u001b[31m3.5 MB/s\u001b[0m eta \u001b[36m0:00:00\u001b[0ma \u001b[36m0:00:01\u001b[0m\n",
      "\u001b[?25hInstalling collected packages: openai\n",
      "  Attempting uninstall: openai\n",
      "    Found existing installation: openai 1.12.0\n",
      "    Uninstalling openai-1.12.0:\n",
      "      Successfully uninstalled openai-1.12.0\n",
      "Successfully installed openai-1.1.1\n"
     ]
    }
   ],
   "source": [
    "!pip install openai==1.1.1"
   ]
  }
 ],
 "metadata": {
  "kernelspec": {
   "display_name": "base",
   "language": "python",
   "name": "python3"
  },
  "language_info": {
   "codemirror_mode": {
    "name": "ipython",
    "version": 3
   },
   "file_extension": ".py",
   "mimetype": "text/x-python",
   "name": "python",
   "nbconvert_exporter": "python",
   "pygments_lexer": "ipython3",
   "version": "3.11.5"
  }
 },
 "nbformat": 4,
 "nbformat_minor": 2
}
